{
 "cells": [
  {
   "cell_type": "code",
   "execution_count": 4,
   "metadata": {
    "collapsed": true
   },
   "outputs": [],
   "source": [
    "import pandas as pd\n",
    "import json"
   ]
  },
  {
   "cell_type": "code",
   "execution_count": 5,
   "metadata": {},
   "outputs": [],
   "source": [
    "df_1 = pd.read_csv(\"Belly_Button_Biodiversity_Metadata.csv\")\n",
    "df_2 = pd.read_csv(\"belly_button_biodiversity_otu_id.csv\")\n",
    "df_3 = pd.read_csv(\"metadata_columns.csv\")\n",
    "df_4 = pd.read_csv(\"belly_button_biodiversity_samples.csv\")\n",
    "\n",
    "dict_1 = df_1.to_dict(orient = \"index\")\n",
    "dict_2 = df_2.to_dict(orient = \"index\")\n",
    "dict_3 = df_3.to_dict(orient = \"index\")\n",
    "dict_4 = df_4.to_dict(orient = \"index\")\n",
    "\n",
    "#json.dumps(dict_1)\n",
    "#json.dumps(dict_2)\n",
    "#json.dumps(dict_3)\n",
    "#json.dumps(dict_4)"
   ]
  },
  {
   "cell_type": "code",
   "execution_count": 10,
   "metadata": {},
   "outputs": [
    {
     "name": "stdout",
     "output_type": "stream",
     "text": [
      "Index(['SAMPLEID', 'EVENT', 'ETHNICITY', 'GENDER', 'AGE', 'WFREQ', 'BBTYPE',\n",
      "       'LOCATION', 'COUNTRY012', 'ZIP012', 'COUNTRY1319', 'ZIP1319', 'DOG',\n",
      "       'CAT', 'IMPSURFACE013', 'NPP013', 'MMAXTEMP013', 'PFC013',\n",
      "       'IMPSURFACE1319', 'NPP1319', 'MMAXTEMP1319', 'PFC1319'],\n",
      "      dtype='object')\n",
      "Index(['otu_id', 'lowest_taxonomic_unit_found'], dtype='object')\n",
      "Index(['COLUMN', 'TYPE', 'DESCRIPTION'], dtype='object')\n",
      "Index(['otu_id', 'BB_940', 'BB_941', 'BB_943', 'BB_944', 'BB_945', 'BB_946',\n",
      "       'BB_947', 'BB_948', 'BB_949',\n",
      "       ...\n",
      "       'BB_1562', 'BB_1563', 'BB_1564', 'BB_1572', 'BB_1573', 'BB_1574',\n",
      "       'BB_1576', 'BB_1577', 'BB_1581', 'BB_1601'],\n",
      "      dtype='object', length=154)\n"
     ]
    }
   ],
   "source": [
    "print(df_1.columns)\n",
    "print(df_2.columns)\n",
    "print(df_3.columns)\n",
    "print(df_4.columns)"
   ]
  },
  {
   "cell_type": "code",
   "execution_count": null,
   "metadata": {
    "collapsed": true
   },
   "outputs": [],
   "source": []
  },
  {
   "cell_type": "code",
   "execution_count": null,
   "metadata": {
    "collapsed": true
   },
   "outputs": [],
   "source": []
  }
 ],
 "metadata": {
  "kernelspec": {
   "display_name": "Python 3",
   "language": "python",
   "name": "python3"
  },
  "language_info": {
   "codemirror_mode": {
    "name": "ipython",
    "version": 3
   },
   "file_extension": ".py",
   "mimetype": "text/x-python",
   "name": "python",
   "nbconvert_exporter": "python",
   "pygments_lexer": "ipython3",
   "version": "3.6.3"
  }
 },
 "nbformat": 4,
 "nbformat_minor": 2
}
